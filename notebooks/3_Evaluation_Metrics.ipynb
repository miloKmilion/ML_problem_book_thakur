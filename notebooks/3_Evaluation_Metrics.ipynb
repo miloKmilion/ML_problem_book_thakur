{
 "cells": [
  {
   "cell_type": "markdown",
   "source": [
    "### 3. Evaluation Metrics\n",
    "\n",
    "When comes to ML problems, there will be a lot odf different metrics in the real world. Sometimes, new mtrics are are created to solve a bussiness case.\n",
    "\n",
    "Some metrics used in the supervised **classification** learning context are:\n",
    "* Accuracy\n",
    "* Precision\n",
    "* Recall\n",
    "* F1 Score\n",
    "* Area Under the ROC or curve, (AUC)\n",
    "* LogLoss\n",
    "* Average precision\n",
    "* Mean average precision\n",
    "\n",
    "Some metrics used in the supervised **Regression** learning context are:\n",
    "* Mean absolute error (MAE)\n",
    "* Mean Squared error (MSE)\n",
    "* Root mean squared error (RMSE)\n",
    "* Root mean squared logarithmic error (RMSLE)\n",
    "* Mean absolute percentage error (MAPE)\n",
    "* R^2^\n",
    "\n"
   ],
   "metadata": {
    "collapsed": false
   }
  },
  {
   "cell_type": "markdown",
   "source": [
    "#### Example:\n",
    "Supposing we have a **binary classification problem.**\n",
    "\n",
    "Classifying X-ray images from lungs, some of them have collapsed lungs vs normal ones.\n",
    "\n",
    "Task: To build a classifier that given a chest X-ray image can detect if is pneumotorax.\n",
    "\n",
    "Assumptions: Equal numbers of samples, being 100 positive vs 100 negatives, then a total of 200 images.\n",
    "\n",
    "1. Divide the data described in 2 sets of 100 images each -> Training and validation set, having a total of 50 positives and 50 negative samples.\n",
    "\n",
    "*Having an equal number of positive and negative samples in a binary classification metric --> Accuracy, precision, recall and f1*"
   ],
   "metadata": {
    "collapsed": false
   }
  },
  {
   "cell_type": "markdown",
   "source": [
    "#### Accuracy:"
   ],
   "metadata": {
    "collapsed": false
   }
  },
  {
   "cell_type": "code",
   "execution_count": 1,
   "outputs": [],
   "source": [
    "def accuracy(y_true, y_pred):\n",
    "    \"\"\"\n",
    "    Function to calculate accuracy\n",
    "    :param y_true: list of true values\n",
    "    :param y_pred: list of predicted values\n",
    "    :return: accuracy store\n",
    "    \"\"\"\n",
    "    # Initialize a simple counter for correct predictions\n",
    "    correct_counter = 0\n",
    "    # Loop over all elements in y_true and y_pred together\n",
    "    for yt, yp in zip(y_true, y_pred):\n",
    "        if yt == yp:\n",
    "            # If prediction is equal to truth, increase the counter.\n",
    "            correct_counter += 1\n",
    "\n",
    "    # Return accuracy\n",
    "    # Which is correct predictions over the number of samples\n",
    "    return correct_counter / len(y_true)"
   ],
   "metadata": {
    "collapsed": false
   }
  },
  {
   "cell_type": "markdown",
   "source": [
    "#### Precision\n",
    "If the dataset changes as: 180 normal images vs 20 with pneumothorax. We need to create a training and validation set with the same\n",
    "ratio of positive to negative targets.\n",
    "\n",
    "In each set 90 normal vs 10 pneumothorax images.\n",
    "\n",
    "it is necessary to learn certain concepts needed now that we assume the normal samples = 0 and pneumothorax = 1\n",
    "\n",
    "##### True positive (TP)\n",
    "Given an image, if the model predicts the correct one having pneumothorax and the actual target also predicts the correct answer then is a **True Positive**\n",
    "\n",
    "##### True Negative (TN)\n",
    "Given an image, if the model predicts that the image does not have pneumothorax and the target also says that is a non-pneumothorax then is a **True Negative**\n",
    "\n",
    "##### False positive (FP)\n",
    "Given an image, if the model predicts pneumothorax and the actual target image is a non-pneumothorax then is a **False Positive**\n",
    "\n",
    "##### False negative (FN)\n",
    "Given an image, if the model predicts non-pneumothorax and the actual target image is pneumothorax then is a **False Negative**"
   ],
   "metadata": {
    "collapsed": false
   }
  },
  {
   "cell_type": "code",
   "execution_count": 2,
   "outputs": [],
   "source": [
    "def true_positive(y_true, y_pred):\n",
    "    \"\"\"\n",
    "    Function to calculate True Positives\n",
    "    :param y_true: list of true values\n",
    "    :param y_pred: list of predicted values\n",
    "    :return: number of true positives\n",
    "    \"\"\"\n",
    "    #Initialize\n",
    "    tp = 0\n",
    "    for yt, yp in zip(y_true, y_pred):\n",
    "        if yt == 1 and yp == 1:\n",
    "            tp += 1\n",
    "\n",
    "    return tp\n",
    "\n",
    "\n",
    "def true_negative(y_true, y_pred):\n",
    "    \"\"\"\n",
    "    Function to calculate True Negatives\n",
    "    :param y_true: list of true values\n",
    "    :param y_pred: list of predicted values\n",
    "    :return: number of true negatives\n",
    "    \"\"\"\n",
    "    #Initialize\n",
    "    tn = 0\n",
    "    for yt, yp in zip(y_true, y_pred):\n",
    "        if yt == 0 and yp == 0:\n",
    "            tn += 1\n",
    "\n",
    "    return tn\n",
    "\n",
    "def false_positive(y_true, y_pred):\n",
    "    \"\"\"\n",
    "    Function to calculate False Positives\n",
    "    :param y_true: list of true values\n",
    "    :param y_pred: list of predicted values\n",
    "    :return: number of False positives\n",
    "    \"\"\"\n",
    "    #Initialize\n",
    "    fp = 0\n",
    "    for yt, yp in zip(y_true, y_pred):\n",
    "        if yt == 0 and yp == 1:\n",
    "            fp += 1\n",
    "\n",
    "    return fp\n",
    "\n",
    "def false_negatives(y_true, y_pred):\n",
    "    \"\"\"\n",
    "    Function to calculate False negatives\n",
    "    :param y_true: list of true values\n",
    "    :param y_pred: list of predicted values\n",
    "    :return: number of False Negatives\n",
    "    \"\"\"\n",
    "    #Initialize\n",
    "    fn = 0\n",
    "    for yt, yp in zip(y_true, y_pred):\n",
    "        if yt == 1 and yp == 0:\n",
    "            fn += 1\n",
    "\n",
    "    return fn\n"
   ],
   "metadata": {
    "collapsed": false
   }
  },
  {
   "cell_type": "code",
   "execution_count": null,
   "outputs": [],
   "source": [],
   "metadata": {
    "collapsed": false
   }
  }
 ],
 "metadata": {
  "kernelspec": {
   "display_name": "Python 3",
   "language": "python",
   "name": "python3"
  },
  "language_info": {
   "codemirror_mode": {
    "name": "ipython",
    "version": 2
   },
   "file_extension": ".py",
   "mimetype": "text/x-python",
   "name": "python",
   "nbconvert_exporter": "python",
   "pygments_lexer": "ipython2",
   "version": "2.7.6"
  }
 },
 "nbformat": 4,
 "nbformat_minor": 0
}
