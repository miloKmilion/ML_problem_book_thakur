{
 "cells": [
  {
   "cell_type": "markdown",
   "source": [
    "### 3. Evaluation Metrics\n",
    "\n",
    "When comes to ML problems, there will be a lot odf different metrics in the real world. Sometimes, new mtrics are are created to solve a bussiness case.\n",
    "\n",
    "Some metrics used in the supervised **classification** learning context are:\n",
    "* Accuracy\n",
    "* Precision\n",
    "* Recall\n",
    "* F1 Score\n",
    "* Area Under the ROC or curve, (AUC)\n",
    "* LogLoss\n",
    "* Average precision\n",
    "* Mean average precision\n",
    "\n",
    "Some metrics used in the supervised **Regression** learning context are:\n",
    "* Mean absolute error (MAE)\n",
    "* Mean Squared error (MSE)\n",
    "* Root mean squared error (RMSE)\n",
    "* Root mean squared logarithmic error (RMSLE)\n",
    "* Mean absolute percentage error (MAPE)\n",
    "* R^2^\n",
    "\n"
   ],
   "metadata": {
    "collapsed": false
   }
  },
  {
   "cell_type": "markdown",
   "source": [
    "#### Example:\n",
    "Supposing we have a **binary classification problem.**\n",
    "\n",
    "Classifying X-ray images from lungs, some of them have collapsed lungs vs normal ones.\n",
    "\n",
    "Task: To build a classifier that given a chest X-ray image can detect if is pneumotorax.\n",
    "\n",
    "Assumptions: Equal numbers of samples, being 100 positive vs 100 negatives, then a total of 200 images.\n",
    "\n",
    "1. Divide the data described in 2 sets of 100 images each -> Training and validation set, having a total of 50 positives and 50 negative samples.\n",
    "\n",
    "*Having an equal number of positive and negative samples in a binary classification metric --> Accuracy, precision, recall and f1*"
   ],
   "metadata": {
    "collapsed": false
   }
  },
  {
   "cell_type": "markdown",
   "source": [
    "#### Accuracy:"
   ],
   "metadata": {
    "collapsed": false
   }
  },
  {
   "cell_type": "code",
   "execution_count": 1,
   "outputs": [],
   "source": [
    "def accuracy(y_true, y_pred):\n",
    "    \"\"\"\n",
    "    Function to calculate accuracy\n",
    "    :param y_true: list of true values\n",
    "    :param y_pred: list of predicted values\n",
    "    :return: accuracy store\n",
    "    \"\"\"\n",
    "    # Initialize a simple counter for correct predictions\n",
    "    correct_counter = 0\n",
    "    # Loop over all elements in y_true and y_pred together\n",
    "    for yt, yp in zip(y_true, y_pred):\n",
    "        if yt == yp:\n",
    "            # If prediction is equal to truth, increase the counter.\n",
    "            correct_counter += 1\n",
    "\n",
    "    # Return accuracy\n",
    "    # Which is correct predictions over the number of samples\n",
    "    return correct_counter / len(y_true)"
   ],
   "metadata": {
    "collapsed": false
   }
  },
  {
   "cell_type": "markdown",
   "source": [
    "#### Precision\n",
    "If the dataset changes as: 180 normal images vs 20 with pneumothorax. We need to create a training and validation set with the same\n",
    "ratio of positive to negative targets.\n",
    "\n",
    "In each set 90 normal vs 10 pneumothorax images.\n",
    "\n",
    "it is necessary to learn certain concepts needed now that we assume the normal samples = 0 and pneumothorax = 1\n",
    "\n",
    "##### True positive (TP)\n",
    "Given an image, if the model predicts the correct one having pneumothorax and the actual target also predicts the correct answer then is a **True Positive**\n",
    "\n",
    "##### True Negative (TN)\n",
    "Given an image, if the model predicts that the image does not have pneumothorax and the target also says that is a non-pneumothorax then is a **True Negative**\n",
    "\n",
    "##### False positive (FP)\n",
    "Given an image, if the model predicts pneumothorax and the actual target image is a non-pneumothorax then is a **False Positive**\n",
    "\n",
    "##### False negative (FN)\n",
    "Given an image, if the model predicts non-pneumothorax and the actual target image is pneumothorax then is a **False Negative**"
   ],
   "metadata": {
    "collapsed": false
   }
  },
  {
   "cell_type": "code",
   "execution_count": 3,
   "outputs": [],
   "source": [
    "def true_positive(y_true, y_pred):\n",
    "    \"\"\"\n",
    "    Function to calculate True Positives\n",
    "    :param y_true: list of true values\n",
    "    :param y_pred: list of predicted values\n",
    "    :return: number of true positives\n",
    "    \"\"\"\n",
    "    #Initialize\n",
    "    tp = 0\n",
    "    for yt, yp in zip(y_true, y_pred):\n",
    "        if yt == 1 and yp == 1:\n",
    "            tp += 1\n",
    "\n",
    "    return tp\n",
    "\n",
    "\n",
    "def true_negative(y_true, y_pred):\n",
    "    \"\"\"\n",
    "    Function to calculate True Negatives\n",
    "    :param y_true: list of true values\n",
    "    :param y_pred: list of predicted values\n",
    "    :return: number of true negatives\n",
    "    \"\"\"\n",
    "    #Initialize\n",
    "    tn = 0\n",
    "    for yt, yp in zip(y_true, y_pred):\n",
    "        if yt == 0 and yp == 0:\n",
    "            tn += 1\n",
    "\n",
    "    return tn\n",
    "\n",
    "def false_positive(y_true, y_pred):\n",
    "    \"\"\"\n",
    "    Function to calculate False Positives\n",
    "    :param y_true: list of true values\n",
    "    :param y_pred: list of predicted values\n",
    "    :return: number of False positives\n",
    "    \"\"\"\n",
    "    #Initialize\n",
    "    fp = 0\n",
    "    for yt, yp in zip(y_true, y_pred):\n",
    "        if yt == 0 and yp == 1:\n",
    "            fp += 1\n",
    "\n",
    "    return fp\n",
    "\n",
    "def false_negative(y_true, y_pred):\n",
    "    \"\"\"\n",
    "    Function to calculate False negatives\n",
    "    :param y_true: list of true values\n",
    "    :param y_pred: list of predicted values\n",
    "    :return: number of False Negatives\n",
    "    \"\"\"\n",
    "    #Initialize\n",
    "    fn = 0\n",
    "    for yt, yp in zip(y_true, y_pred):\n",
    "        if yt == 1 and yp == 0:\n",
    "            fn += 1\n",
    "\n",
    "    return fn\n"
   ],
   "metadata": {
    "collapsed": false
   }
  },
  {
   "cell_type": "code",
   "execution_count": 4,
   "outputs": [],
   "source": [
    "### Implementing accuracy score using the functions defined before\n",
    "def accuracy_v2(y_true, y_pred):\n",
    "    \"\"\"\n",
    "    Function to calculate accuracy using tp/tn/fp/fn\n",
    "    :param y_true: list of true values\n",
    "    :param y_pred: list of predicted values.\n",
    "    :return: accuracy score.\n",
    "    \"\"\"\n",
    "    tp = true_positive(y_true,y_pred)\n",
    "    fp = false_positive(y_true, y_pred)\n",
    "    fn = false_negative(y_true, y_pred)\n",
    "    tn = true_negative(y_true, y_pred)\n",
    "\n",
    "    accuracy_score = (tp + tn) / (tp + tn + fp + fn)\n",
    "    return accuracy_score"
   ],
   "metadata": {
    "collapsed": false
   }
  },
  {
   "cell_type": "code",
   "execution_count": 5,
   "outputs": [
    {
     "data": {
      "text/plain": "0.625"
     },
     "execution_count": 5,
     "metadata": {},
     "output_type": "execute_result"
    }
   ],
   "source": [
    "l1 = [0,1,1,1,0,0,0,1]\n",
    "l2 = [0,1,0,1,0,1,0,0]\n",
    "\n",
    "accuracy(l1, l2)"
   ],
   "metadata": {
    "collapsed": false
   }
  },
  {
   "cell_type": "code",
   "execution_count": 6,
   "outputs": [
    {
     "data": {
      "text/plain": "0.625"
     },
     "execution_count": 6,
     "metadata": {},
     "output_type": "execute_result"
    }
   ],
   "source": [
    "accuracy_v2(l1, l2)"
   ],
   "metadata": {
    "collapsed": false
   }
  },
  {
   "cell_type": "code",
   "execution_count": 8,
   "outputs": [
    {
     "data": {
      "text/plain": "0.625"
     },
     "execution_count": 8,
     "metadata": {},
     "output_type": "execute_result"
    }
   ],
   "source": [
    "from sklearn import metrics\n",
    "\n",
    "metrics.accuracy_score(l1, l2)"
   ],
   "metadata": {
    "collapsed": false
   }
  },
  {
   "cell_type": "markdown",
   "source": [
    "#### Precision\n",
    "defined as\n",
    "*Precision = TP / (TP + FP)*\n",
    "\n",
    "By implementing TP, TN, FP and FN, then is easy to implement precision\n",
    "\n"
   ],
   "metadata": {
    "collapsed": false
   }
  },
  {
   "cell_type": "code",
   "execution_count": 9,
   "outputs": [],
   "source": [
    "def precision(y_true, y_pred):\n",
    "    \"\"\"\n",
    "    Function to calculate precision\n",
    "    :param y_true: list of true values\n",
    "    :param y_pred: list of predicted values.\n",
    "    :return: Precision Score.\n",
    "    \"\"\"\n",
    "    tp = true_positive(y_true, y_pred)\n",
    "    fp = false_positive(y_true, y_pred)\n",
    "    precision_score = tp / (tp + fp)\n",
    "    return precision_score"
   ],
   "metadata": {
    "collapsed": false
   }
  },
  {
   "cell_type": "code",
   "execution_count": 10,
   "outputs": [
    {
     "data": {
      "text/plain": "0.6666666666666666"
     },
     "execution_count": 10,
     "metadata": {},
     "output_type": "execute_result"
    }
   ],
   "source": [
    "precision(l1, l2)"
   ],
   "metadata": {
    "collapsed": false
   }
  },
  {
   "cell_type": "markdown",
   "source": [
    "#### Recall\n",
    "Recall indicates the number of positive samples identified correctly.\n",
    "\n",
    "* *Recall = TP / (TP + FN)*"
   ],
   "metadata": {
    "collapsed": false
   }
  },
  {
   "cell_type": "code",
   "execution_count": 11,
   "outputs": [],
   "source": [
    "def recall(y_true, y_pred):\n",
    "    \"\"\"\n",
    "    Function to calculate Recall\n",
    "    :param y_true: list of true values\n",
    "    :param y_pred: list of predicted values.\n",
    "    :return: Precision Score.\n",
    "    \"\"\"\n",
    "    tp = true_positive(y_true, y_pred)\n",
    "    fn = false_negative(y_true, y_pred)\n",
    "    recall_score = tp / (tp + fn)\n",
    "    return recall_score"
   ],
   "metadata": {
    "collapsed": false
   }
  },
  {
   "cell_type": "code",
   "execution_count": 12,
   "outputs": [
    {
     "data": {
      "text/plain": "0.5"
     },
     "execution_count": 12,
     "metadata": {},
     "output_type": "execute_result"
    }
   ],
   "source": [
    "recall(l1, l2)"
   ],
   "metadata": {
    "collapsed": false
   }
  },
  {
   "cell_type": "markdown",
   "source": [
    "For a good model, precision and recall values should be high. In the example above, recall is high but precision is low which indicates that our model indicates a lot of false positives\n",
    "but fewer false negatives.\n",
    "\n",
    "Most of the models predict a probability, and when predict the threshold is set to 0.5. This is not always ideal, and depending on the threshold the value of recall and precision will change\n",
    "drastically. For each threshold chosen it is necessary to calculate precision and recall values, and plotting that set of values. That plot is known as **precision-recall curve**"
   ],
   "metadata": {
    "collapsed": false
   }
  },
  {
   "cell_type": "markdown",
   "source": [
    "### F1 score\n",
    "It is a metric that combines both precision and recall. It is defined as a simple weighted average (harmonic mean) of precision and recall.\n",
    "\n",
    "Being Precision = P and Recall = R then *F1 = 2PR / (P + R)*\n",
    "That can be converted into: *F1 = 2TP /  (2TP + FP + FN)*"
   ],
   "metadata": {
    "collapsed": false
   }
  },
  {
   "cell_type": "code",
   "execution_count": 13,
   "outputs": [],
   "source": [
    "def f1(y_true, y_pred):\n",
    "    \"\"\"\n",
    "    Function to calculate the F1 Score.\n",
    "    :param y_true: List of true values\n",
    "    :param y_pred: List of predicted values\n",
    "    :return: F1 Score\n",
    "    \"\"\"\n",
    "    p = precision(y_true, y_pred)\n",
    "    r = recall(y_true, y_pred)\n",
    "\n",
    "    f1_score = 2 * p * r / (p + r)\n",
    "    return f1_score\n"
   ],
   "metadata": {
    "collapsed": false
   }
  },
  {
   "cell_type": "code",
   "execution_count": 14,
   "outputs": [
    {
     "data": {
      "text/plain": "0.5714285714285715"
     },
     "execution_count": 14,
     "metadata": {},
     "output_type": "execute_result"
    }
   ],
   "source": [
    "f1(l1, l2)"
   ],
   "metadata": {
    "collapsed": false
   }
  },
  {
   "cell_type": "code",
   "execution_count": 15,
   "outputs": [
    {
     "data": {
      "text/plain": "0.5714285714285715"
     },
     "execution_count": 15,
     "metadata": {},
     "output_type": "execute_result"
    }
   ],
   "source": [
    "metrics.f1_score(l1, l2)"
   ],
   "metadata": {
    "collapsed": false
   }
  },
  {
   "cell_type": "markdown",
   "source": [
    "* Instead of looking at precision and recall individually the F1 score should be used. This score also ranges from 0 to 1 .\n",
    "* When dealing with skewed targets in datasets, the F1 score is more reliable than accuracy."
   ],
   "metadata": {
    "collapsed": false
   }
  },
  {
   "cell_type": "markdown",
   "source": [
    "### TPR - True Positive Rate\n",
    "It is equivalent to recall"
   ],
   "metadata": {
    "collapsed": false
   }
  },
  {
   "cell_type": "code",
   "execution_count": 17,
   "outputs": [],
   "source": [
    "def tpr(y_true, y_pred):\n",
    "    \"\"\"\n",
    "    Function to calculate the TPR.\n",
    "    :param y_true: List of true values\n",
    "    :param y_pred: List of predicted values\n",
    "    :return: tpr/recall Score\n",
    "    \"\"\"\n",
    "    return recall(y_true, y_pred)"
   ],
   "metadata": {
    "collapsed": false
   }
  },
  {
   "cell_type": "markdown",
   "source": [
    "### FPR - False Positive rate.\n",
    "It is defined by *FPR = FP / (TN + FP)"
   ],
   "metadata": {
    "collapsed": false
   }
  },
  {
   "cell_type": "code",
   "execution_count": 21,
   "outputs": [],
   "source": [
    "def fpr(y_true, y_pred):\n",
    "    \"\"\"\n",
    "    Function to calculate the FPR.\n",
    "    :param y_true: List of true values\n",
    "    :param y_pred: List of predicted values\n",
    "    :return: fpr\n",
    "    \"\"\"\n",
    "    fp = false_positive(y_true, y_pred)\n",
    "    tn = true_negative(y_true, y_pred)\n",
    "\n",
    "    fpr_score = fp / (tn + fp)\n",
    "    return fpr_score"
   ],
   "metadata": {
    "collapsed": false
   }
  },
  {
   "cell_type": "markdown",
   "source": [
    "1 - FPR is known as specificity or True Negative Rate or TNR."
   ],
   "metadata": {
    "collapsed": false
   }
  },
  {
   "cell_type": "code",
   "execution_count": 22,
   "outputs": [],
   "source": [
    "tpr_list = []\n",
    "fpr_list = []\n",
    "\n",
    "# Actual targets\n",
    "y_true = [0,0,0,0,1,0,1,0,0,1,0,1,0,0,1]\n",
    "\n",
    "# Predicted probabilities of a sample being 1\n",
    "y_pred = [0.1, 0.3, 0.2, 0.6, 0.8, 0.05, 0.9, 0.5, 0.3, 0.66, 0.3, 0.2, 0.85, 0.15, 0.99]\n",
    "\n",
    "# handmade thresholds\n",
    "thresholds = [0, 0.1, 0.2, 0.3, 0.4, 0.5, 0.6, 0.7, 0.8, 0.85, 0.9, 0.99, 1]\n",
    "\n",
    "# loop over all thresholds\n",
    "for thresh in thresholds:\n",
    "    # Calculate the predictions for a given threshold\n",
    "    tem_pred = [1 if x >= thresh else 0 for x in y_pred]\n",
    "    # calculate tpr\n",
    "    tem_tpr = tpr(y_true, tem_pred)\n",
    "    # calculate fpr\n",
    "    tem_fpr = fpr(y_true, tem_pred)\n",
    "    # append tpr and fpr to lists\n",
    "    tpr_list.append(tem_tpr)\n",
    "    fpr_list.append(tem_fpr)"
   ],
   "metadata": {
    "collapsed": false
   }
  },
  {
   "cell_type": "code",
   "execution_count": 26,
   "outputs": [
    {
     "name": "stdout",
     "output_type": "stream",
     "text": [
      "[1.0, 0.9, 0.7, 0.6, 0.3, 0.3, 0.2, 0.1, 0.1, 0.1, 0.0, 0.0, 0.0]\n",
      "[1.0, 1.0, 1.0, 0.8, 0.8, 0.8, 0.8, 0.6, 0.6, 0.4, 0.4, 0.2, 0.0]\n"
     ]
    }
   ],
   "source": [
    "print(fpr_list)\n",
    "print(tpr_list)"
   ],
   "metadata": {
    "collapsed": false
   }
  },
  {
   "cell_type": "code",
   "execution_count": 28,
   "outputs": [
    {
     "data": {
      "text/plain": "<Figure size 700x700 with 1 Axes>",
      "image/png": "[encoded data removed]"
     },
     "metadata": {},
     "output_type": "display_data"
    }
   ],
   "source": [
    "import matplotlib.pyplot as plt\n",
    "import numpy as np\n",
    "import pandas as pd\n",
    "import seaborn as sns\n",
    "\n",
    "from sklearn import datasets\n",
    "from sklearn import manifold\n",
    "\n",
    "%matplotlib inline\n",
    "\n",
    "plt.figure(figsize=(7, 7))\n",
    "plt.fill_between(fpr_list, tpr_list, alpha=0.4)\n",
    "plt.plot(fpr_list, tpr_list, lw=3)\n",
    "plt.xlim(0, 1.0)\n",
    "plt.ylim(0, 1.0)\n",
    "plt.xlabel('FPR', fontsize=15)\n",
    "plt.ylabel('TPR', fontsize=15)\n",
    "plt.show()"
   ],
   "metadata": {
    "collapsed": false
   }
  },
  {
   "cell_type": "markdown",
   "source": [
    "### Conclusion\n",
    "The curve above is known as the **Receiver Operating Characteristic (ROC)**. And calculating the area under the ROC curve is equivalent to another metric\n",
    "used when the dataset studied has skewed binary targets.\n",
    "\n",
    "The metric mentioned is known as the **Area Under the Curve (AUC)**. The values range from 0 to 1.\n",
    "\n",
    "* **AUC = 1** implies that the model is perfect. Usually, it means that there was a mistake with validation, and it should revisit the data processing and validation\n",
    "pipeline.\n",
    "* **AUC = 0** implies that the model is very bad. Try inverting the probabilities for the predictions, e.g., if the probability for a predicted class is p, reconsider\n",
    "to substituting it for 1 - p. This AUC indicates thaT there is some problem with the validation or data processing.\n",
    "* **AUC = 0.5** implies that the predictions are random. So, for any binary classification problem, if  predicts all targets as 0.5.\n",
    "\n",
    "AUC values between 0 and 0.5 imply that the model is worse than random.\n",
    "\n"
   ],
   "metadata": {
    "collapsed": false
   }
  },
  {
   "cell_type": "code",
   "execution_count": null,
   "outputs": [],
   "source": [],
   "metadata": {
    "collapsed": false
   }
  }
 ],
 "metadata": {
  "kernelspec": {
   "display_name": "Python 3",
   "language": "python",
   "name": "python3"
  },
  "language_info": {
   "codemirror_mode": {
    "name": "ipython",
    "version": 2
   },
   "file_extension": ".py",
   "mimetype": "text/x-python",
   "name": "python",
   "nbconvert_exporter": "python",
   "pygments_lexer": "ipython2",
   "version": "2.7.6"
  }
 },
 "nbformat": 4,
 "nbformat_minor": 0
}
