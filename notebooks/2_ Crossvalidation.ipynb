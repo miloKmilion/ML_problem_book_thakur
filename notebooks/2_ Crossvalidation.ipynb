{
 "cells": [
  {
   "cell_type": "markdown",
   "source": [
    "### 2 Cross-Validation"
   ],
   "metadata": {
    "collapsed": false
   }
  },
  {
   "cell_type": "markdown",
   "source": [
    "Before creating any Machine Learning model, it is necessary to understand what is cross-validation and how to choose the best\n",
    "set of parameter depending on the dataset\n",
    "\n",
    "* Cross-validation is a step in the process of building machine learning models which help to ensure that the model created fits the\n",
    "data accurately and also avoids overfitting.\n"
   ],
   "metadata": {
    "collapsed": false
   }
  },
  {
   "cell_type": "code",
   "execution_count": 5,
   "outputs": [
    {
     "data": {
      "text/plain": "   fixed acidity  volatile acidity  citric acid  residual sugar  chlorides  \\\n0            7.4              0.70         0.00             1.9      0.076   \n1            7.8              0.88         0.00             2.6      0.098   \n2            7.8              0.76         0.04             2.3      0.092   \n3           11.2              0.28         0.56             1.9      0.075   \n4            7.4              0.70         0.00             1.9      0.076   \n5            7.4              0.66         0.00             1.8      0.075   \n6            7.9              0.60         0.06             1.6      0.069   \n7            7.3              0.65         0.00             1.2      0.065   \n8            7.8              0.58         0.02             2.0      0.073   \n9            7.5              0.50         0.36             6.1      0.071   \n\n   free sulfur dioxide  total sulfur dioxide  density    pH  sulphates  \\\n0                 11.0                  34.0   0.9978  3.51       0.56   \n1                 25.0                  67.0   0.9968  3.20       0.68   \n2                 15.0                  54.0   0.9970  3.26       0.65   \n3                 17.0                  60.0   0.9980  3.16       0.58   \n4                 11.0                  34.0   0.9978  3.51       0.56   \n5                 13.0                  40.0   0.9978  3.51       0.56   \n6                 15.0                  59.0   0.9964  3.30       0.46   \n7                 15.0                  21.0   0.9946  3.39       0.47   \n8                  9.0                  18.0   0.9968  3.36       0.57   \n9                 17.0                 102.0   0.9978  3.35       0.80   \n\n   alcohol  quality  \n0      9.4        5  \n1      9.8        5  \n2      9.8        5  \n3      9.8        6  \n4      9.4        5  \n5      9.4        5  \n6      9.4        5  \n7     10.0        7  \n8      9.5        7  \n9     10.5        5  ",
      "text/html": "<div>\n<style scoped>\n    .dataframe tbody tr th:only-of-type {\n        vertical-align: middle;\n    }\n\n    .dataframe tbody tr th {\n        vertical-align: top;\n    }\n\n    .dataframe thead th {\n        text-align: right;\n    }\n</style>\n<table border=\"1\" class=\"dataframe\">\n  <thead>\n    <tr style=\"text-align: right;\">\n      <th></th>\n      <th>fixed acidity</th>\n      <th>volatile acidity</th>\n      <th>citric acid</th>\n      <th>residual sugar</th>\n      <th>chlorides</th>\n      <th>free sulfur dioxide</th>\n      <th>total sulfur dioxide</th>\n      <th>density</th>\n      <th>pH</th>\n      <th>sulphates</th>\n      <th>alcohol</th>\n      <th>quality</th>\n    </tr>\n  </thead>\n  <tbody>\n    <tr>\n      <th>0</th>\n      <td>7.4</td>\n      <td>0.70</td>\n      <td>0.00</td>\n      <td>1.9</td>\n      <td>0.076</td>\n      <td>11.0</td>\n      <td>34.0</td>\n      <td>0.9978</td>\n      <td>3.51</td>\n      <td>0.56</td>\n      <td>9.4</td>\n      <td>5</td>\n    </tr>\n    <tr>\n      <th>1</th>\n      <td>7.8</td>\n      <td>0.88</td>\n      <td>0.00</td>\n      <td>2.6</td>\n      <td>0.098</td>\n      <td>25.0</td>\n      <td>67.0</td>\n      <td>0.9968</td>\n      <td>3.20</td>\n      <td>0.68</td>\n      <td>9.8</td>\n      <td>5</td>\n    </tr>\n    <tr>\n      <th>2</th>\n      <td>7.8</td>\n      <td>0.76</td>\n      <td>0.04</td>\n      <td>2.3</td>\n      <td>0.092</td>\n      <td>15.0</td>\n      <td>54.0</td>\n      <td>0.9970</td>\n      <td>3.26</td>\n      <td>0.65</td>\n      <td>9.8</td>\n      <td>5</td>\n    </tr>\n    <tr>\n      <th>3</th>\n      <td>11.2</td>\n      <td>0.28</td>\n      <td>0.56</td>\n      <td>1.9</td>\n      <td>0.075</td>\n      <td>17.0</td>\n      <td>60.0</td>\n      <td>0.9980</td>\n      <td>3.16</td>\n      <td>0.58</td>\n      <td>9.8</td>\n      <td>6</td>\n    </tr>\n    <tr>\n      <th>4</th>\n      <td>7.4</td>\n      <td>0.70</td>\n      <td>0.00</td>\n      <td>1.9</td>\n      <td>0.076</td>\n      <td>11.0</td>\n      <td>34.0</td>\n      <td>0.9978</td>\n      <td>3.51</td>\n      <td>0.56</td>\n      <td>9.4</td>\n      <td>5</td>\n    </tr>\n    <tr>\n      <th>5</th>\n      <td>7.4</td>\n      <td>0.66</td>\n      <td>0.00</td>\n      <td>1.8</td>\n      <td>0.075</td>\n      <td>13.0</td>\n      <td>40.0</td>\n      <td>0.9978</td>\n      <td>3.51</td>\n      <td>0.56</td>\n      <td>9.4</td>\n      <td>5</td>\n    </tr>\n    <tr>\n      <th>6</th>\n      <td>7.9</td>\n      <td>0.60</td>\n      <td>0.06</td>\n      <td>1.6</td>\n      <td>0.069</td>\n      <td>15.0</td>\n      <td>59.0</td>\n      <td>0.9964</td>\n      <td>3.30</td>\n      <td>0.46</td>\n      <td>9.4</td>\n      <td>5</td>\n    </tr>\n    <tr>\n      <th>7</th>\n      <td>7.3</td>\n      <td>0.65</td>\n      <td>0.00</td>\n      <td>1.2</td>\n      <td>0.065</td>\n      <td>15.0</td>\n      <td>21.0</td>\n      <td>0.9946</td>\n      <td>3.39</td>\n      <td>0.47</td>\n      <td>10.0</td>\n      <td>7</td>\n    </tr>\n    <tr>\n      <th>8</th>\n      <td>7.8</td>\n      <td>0.58</td>\n      <td>0.02</td>\n      <td>2.0</td>\n      <td>0.073</td>\n      <td>9.0</td>\n      <td>18.0</td>\n      <td>0.9968</td>\n      <td>3.36</td>\n      <td>0.57</td>\n      <td>9.5</td>\n      <td>7</td>\n    </tr>\n    <tr>\n      <th>9</th>\n      <td>7.5</td>\n      <td>0.50</td>\n      <td>0.36</td>\n      <td>6.1</td>\n      <td>0.071</td>\n      <td>17.0</td>\n      <td>102.0</td>\n      <td>0.9978</td>\n      <td>3.35</td>\n      <td>0.80</td>\n      <td>10.5</td>\n      <td>5</td>\n    </tr>\n  </tbody>\n</table>\n</div>"
     },
     "execution_count": 5,
     "metadata": {},
     "output_type": "execute_result"
    }
   ],
   "source": [
    "import pandas as pd\n",
    "\n",
    "df = pd.read_csv(\"../data/winequality-red.csv\", sep=\";\")\n",
    "df.head(10)"
   ],
   "metadata": {
    "collapsed": false
   }
  },
  {
   "cell_type": "markdown",
   "source": [
    "* The problem can be treated as a classification problem or regression, since wine quality is nothing but a real number between 0 and 10.\n",
    "* classification will be chosen due to simplicity\n",
    "* This dataset, consists only of six types of quality values.\n"
   ],
   "metadata": {
    "collapsed": false
   }
  },
  {
   "cell_type": "code",
   "execution_count": 6,
   "outputs": [
    {
     "data": {
      "text/plain": "   fixed acidity  volatile acidity  citric acid  residual sugar  chlorides  \\\n0            7.4              0.70         0.00             1.9      0.076   \n1            7.8              0.88         0.00             2.6      0.098   \n2            7.8              0.76         0.04             2.3      0.092   \n3           11.2              0.28         0.56             1.9      0.075   \n4            7.4              0.70         0.00             1.9      0.076   \n\n   free sulfur dioxide  total sulfur dioxide  density    pH  sulphates  \\\n0                 11.0                  34.0   0.9978  3.51       0.56   \n1                 25.0                  67.0   0.9968  3.20       0.68   \n2                 15.0                  54.0   0.9970  3.26       0.65   \n3                 17.0                  60.0   0.9980  3.16       0.58   \n4                 11.0                  34.0   0.9978  3.51       0.56   \n\n   alcohol  quality  \n0      9.4        2  \n1      9.8        2  \n2      9.8        2  \n3      9.8        3  \n4      9.4        2  ",
      "text/html": "<div>\n<style scoped>\n    .dataframe tbody tr th:only-of-type {\n        vertical-align: middle;\n    }\n\n    .dataframe tbody tr th {\n        vertical-align: top;\n    }\n\n    .dataframe thead th {\n        text-align: right;\n    }\n</style>\n<table border=\"1\" class=\"dataframe\">\n  <thead>\n    <tr style=\"text-align: right;\">\n      <th></th>\n      <th>fixed acidity</th>\n      <th>volatile acidity</th>\n      <th>citric acid</th>\n      <th>residual sugar</th>\n      <th>chlorides</th>\n      <th>free sulfur dioxide</th>\n      <th>total sulfur dioxide</th>\n      <th>density</th>\n      <th>pH</th>\n      <th>sulphates</th>\n      <th>alcohol</th>\n      <th>quality</th>\n    </tr>\n  </thead>\n  <tbody>\n    <tr>\n      <th>0</th>\n      <td>7.4</td>\n      <td>0.70</td>\n      <td>0.00</td>\n      <td>1.9</td>\n      <td>0.076</td>\n      <td>11.0</td>\n      <td>34.0</td>\n      <td>0.9978</td>\n      <td>3.51</td>\n      <td>0.56</td>\n      <td>9.4</td>\n      <td>2</td>\n    </tr>\n    <tr>\n      <th>1</th>\n      <td>7.8</td>\n      <td>0.88</td>\n      <td>0.00</td>\n      <td>2.6</td>\n      <td>0.098</td>\n      <td>25.0</td>\n      <td>67.0</td>\n      <td>0.9968</td>\n      <td>3.20</td>\n      <td>0.68</td>\n      <td>9.8</td>\n      <td>2</td>\n    </tr>\n    <tr>\n      <th>2</th>\n      <td>7.8</td>\n      <td>0.76</td>\n      <td>0.04</td>\n      <td>2.3</td>\n      <td>0.092</td>\n      <td>15.0</td>\n      <td>54.0</td>\n      <td>0.9970</td>\n      <td>3.26</td>\n      <td>0.65</td>\n      <td>9.8</td>\n      <td>2</td>\n    </tr>\n    <tr>\n      <th>3</th>\n      <td>11.2</td>\n      <td>0.28</td>\n      <td>0.56</td>\n      <td>1.9</td>\n      <td>0.075</td>\n      <td>17.0</td>\n      <td>60.0</td>\n      <td>0.9980</td>\n      <td>3.16</td>\n      <td>0.58</td>\n      <td>9.8</td>\n      <td>3</td>\n    </tr>\n    <tr>\n      <th>4</th>\n      <td>7.4</td>\n      <td>0.70</td>\n      <td>0.00</td>\n      <td>1.9</td>\n      <td>0.076</td>\n      <td>11.0</td>\n      <td>34.0</td>\n      <td>0.9978</td>\n      <td>3.51</td>\n      <td>0.56</td>\n      <td>9.4</td>\n      <td>2</td>\n    </tr>\n  </tbody>\n</table>\n</div>"
     },
     "execution_count": 6,
     "metadata": {},
     "output_type": "execute_result"
    }
   ],
   "source": [
    "# Creating a mapping dictionary, for the wine qualities from 0 to 5\n",
    "quality_mapping = {\n",
    "    3: 0,\n",
    "    4: 1,\n",
    "    5: 2,\n",
    "    6: 3,\n",
    "    7: 4,\n",
    "    8: 5\n",
    "}\n",
    "\n",
    "# By using the function map on a dictionary makes possible to convert values in a column to the values in the dictionary.\n",
    "df.loc[:, \"quality\"] = df['quality'].map(quality_mapping)\n",
    "df.head()"
   ],
   "metadata": {
    "collapsed": false
   }
  },
  {
   "cell_type": "markdown",
   "source": [
    "As is a classification problem, we can apply neural networks. But it would be a stretch as will overcomplicate the problem.\n",
    "\n",
    "* A simpler approach can be **decision trees**\n",
    "* It is necessary to understand what overfitting is. For that the data needs to be split"
   ],
   "metadata": {
    "collapsed": false
   }
  },
  {
   "cell_type": "code",
   "execution_count": 7,
   "outputs": [],
   "source": [
    "# use the sample with frac 1 to shuffle the dataframe.\n",
    "# Reset the indices since they will change after.\n",
    "# Shuffling the dataframe.\n",
    "df = df.sample(frac=1).reset_index(drop=True)\n",
    "\n",
    "# top 1000 rows\n",
    "df_train = df.head(1000)\n",
    "\n",
    "# Bottom 599 values are selected for testing/validation\n",
    "df_test = df.tail(599)"
   ],
   "metadata": {
    "collapsed": false
   }
  },
  {
   "cell_type": "markdown",
   "source": [
    "1. Importing a decision tree model from Scikit-learn to train the model in the training set"
   ],
   "metadata": {
    "collapsed": false
   }
  },
  {
   "cell_type": "code",
   "execution_count": 9,
   "outputs": [
    {
     "data": {
      "text/plain": "DecisionTreeClassifier(max_depth=3)",
      "text/html": "<style>#sk-container-id-1 {color: black;background-color: white;}#sk-container-id-1 pre{padding: 0;}#sk-container-id-1 div.sk-toggleable {background-color: white;}#sk-container-id-1 label.sk-toggleable__label {cursor: pointer;display: block;width: 100%;margin-bottom: 0;padding: 0.3em;box-sizing: border-box;text-align: center;}#sk-container-id-1 label.sk-toggleable__label-arrow:before {content: \"▸\";float: left;margin-right: 0.25em;color: #696969;}#sk-container-id-1 label.sk-toggleable__label-arrow:hover:before {color: black;}#sk-container-id-1 div.sk-estimator:hover label.sk-toggleable__label-arrow:before {color: black;}#sk-container-id-1 div.sk-toggleable__content {max-height: 0;max-width: 0;overflow: hidden;text-align: left;background-color: #f0f8ff;}#sk-container-id-1 div.sk-toggleable__content pre {margin: 0.2em;color: black;border-radius: 0.25em;background-color: #f0f8ff;}#sk-container-id-1 input.sk-toggleable__control:checked~div.sk-toggleable__content {max-height: 200px;max-width: 100%;overflow: auto;}#sk-container-id-1 input.sk-toggleable__control:checked~label.sk-toggleable__label-arrow:before {content: \"▾\";}#sk-container-id-1 div.sk-estimator input.sk-toggleable__control:checked~label.sk-toggleable__label {background-color: #d4ebff;}#sk-container-id-1 div.sk-label input.sk-toggleable__control:checked~label.sk-toggleable__label {background-color: #d4ebff;}#sk-container-id-1 input.sk-hidden--visually {border: 0;clip: rect(1px 1px 1px 1px);clip: rect(1px, 1px, 1px, 1px);height: 1px;margin: -1px;overflow: hidden;padding: 0;position: absolute;width: 1px;}#sk-container-id-1 div.sk-estimator {font-family: monospace;background-color: #f0f8ff;border: 1px dotted black;border-radius: 0.25em;box-sizing: border-box;margin-bottom: 0.5em;}#sk-container-id-1 div.sk-estimator:hover {background-color: #d4ebff;}#sk-container-id-1 div.sk-parallel-item::after {content: \"\";width: 100%;border-bottom: 1px solid gray;flex-grow: 1;}#sk-container-id-1 div.sk-label:hover label.sk-toggleable__label {background-color: #d4ebff;}#sk-container-id-1 div.sk-serial::before {content: \"\";position: absolute;border-left: 1px solid gray;box-sizing: border-box;top: 0;bottom: 0;left: 50%;z-index: 0;}#sk-container-id-1 div.sk-serial {display: flex;flex-direction: column;align-items: center;background-color: white;padding-right: 0.2em;padding-left: 0.2em;position: relative;}#sk-container-id-1 div.sk-item {position: relative;z-index: 1;}#sk-container-id-1 div.sk-parallel {display: flex;align-items: stretch;justify-content: center;background-color: white;position: relative;}#sk-container-id-1 div.sk-item::before, #sk-container-id-1 div.sk-parallel-item::before {content: \"\";position: absolute;border-left: 1px solid gray;box-sizing: border-box;top: 0;bottom: 0;left: 50%;z-index: -1;}#sk-container-id-1 div.sk-parallel-item {display: flex;flex-direction: column;z-index: 1;position: relative;background-color: white;}#sk-container-id-1 div.sk-parallel-item:first-child::after {align-self: flex-end;width: 50%;}#sk-container-id-1 div.sk-parallel-item:last-child::after {align-self: flex-start;width: 50%;}#sk-container-id-1 div.sk-parallel-item:only-child::after {width: 0;}#sk-container-id-1 div.sk-dashed-wrapped {border: 1px dashed gray;margin: 0 0.4em 0.5em 0.4em;box-sizing: border-box;padding-bottom: 0.4em;background-color: white;}#sk-container-id-1 div.sk-label label {font-family: monospace;font-weight: bold;display: inline-block;line-height: 1.2em;}#sk-container-id-1 div.sk-label-container {text-align: center;}#sk-container-id-1 div.sk-container {/* jupyter's `normalize.less` sets `[hidden] { display: none; }` but bootstrap.min.css set `[hidden] { display: none !important; }` so we also need the `!important` here to be able to override the default hidden behavior on the sphinx rendered scikit-learn.org. See: https://github.com/scikit-learn/scikit-learn/issues/21755 */display: inline-block !important;position: relative;}#sk-container-id-1 div.sk-text-repr-fallback {display: none;}</style><div id=\"sk-container-id-1\" class=\"sk-top-container\"><div class=\"sk-text-repr-fallback\"><pre>DecisionTreeClassifier(max_depth=3)</pre><b>In a Jupyter environment, please rerun this cell to show the HTML representation or trust the notebook. <br />On GitHub, the HTML representation is unable to render, please try loading this page with nbviewer.org.</b></div><div class=\"sk-container\" hidden><div class=\"sk-item\"><div class=\"sk-estimator sk-toggleable\"><input class=\"sk-toggleable__control sk-hidden--visually\" id=\"sk-estimator-id-1\" type=\"checkbox\" checked><label for=\"sk-estimator-id-1\" class=\"sk-toggleable__label sk-toggleable__label-arrow\">DecisionTreeClassifier</label><div class=\"sk-toggleable__content\"><pre>DecisionTreeClassifier(max_depth=3)</pre></div></div></div></div></div>"
     },
     "execution_count": 9,
     "metadata": {},
     "output_type": "execute_result"
    }
   ],
   "source": [
    "# Import from scikit-learn\n",
    "from sklearn import tree\n",
    "from sklearn import metrics\n",
    "\n",
    "# Initialize decision tree classifier with a max_depth of 3\n",
    "clf = tree.DecisionTreeClassifier(max_depth=3)\n",
    "\n",
    "# Chose the columns to be used in the training, these will be used as features in the model.\n",
    "cols = [\"fixed acidity\", \"volatile acidity\", \"citric acid\", 'residual sugar', 'chlorides', 'free sulfur dioxide', 'density', 'pH', 'sulphates', 'alcohol']\n",
    "\n",
    "# Train the model on the provided features and mapped quality from before\n",
    "clf.fit(df_train[cols], df_train['quality'])"
   ],
   "metadata": {
    "collapsed": false
   }
  },
  {
   "cell_type": "markdown",
   "source": [
    "2. Testing the accuracy"
   ],
   "metadata": {
    "collapsed": false
   }
  },
  {
   "cell_type": "code",
   "execution_count": 11,
   "outputs": [],
   "source": [
    "#generate predictions on the training set\n",
    "train_predictions = clf.predict(df_train[cols])\n",
    "\n",
    "# generate predictions on the test set.\n",
    "test_predictions = clf.predict(df_test[cols])\n",
    "\n",
    "# Calculate the accuracy of predictions on the training dataset.\n",
    "train_accuracy = metrics.accuracy_score(df_train['quality'], train_predictions)\n",
    "\n",
    "# Calculate the accuracy of predictions on the test dataset\n",
    "test_accuracy = metrics.accuracy_score(df_test['quality'], test_predictions)"
   ],
   "metadata": {
    "collapsed": false
   }
  },
  {
   "cell_type": "code",
   "execution_count": 15,
   "outputs": [
    {
     "data": {
      "text/plain": "59.9"
     },
     "execution_count": 15,
     "metadata": {},
     "output_type": "execute_result"
    }
   ],
   "source": [
    "train_accuracy * 100"
   ],
   "metadata": {
    "collapsed": false
   }
  },
  {
   "cell_type": "code",
   "execution_count": 14,
   "outputs": [
    {
     "data": {
      "text/plain": "52.25375626043406"
     },
     "execution_count": 14,
     "metadata": {},
     "output_type": "execute_result"
    }
   ],
   "source": [
    "test_accuracy * 100"
   ],
   "metadata": {
    "collapsed": false
   }
  },
  {
   "cell_type": "markdown",
   "source": [
    "#### Understanding the results\n",
    "\n",
    "* The training and test accuracies found around the 50% can be increased when the depth is increased to a higher number (i.e., max_depth = 7 --> 76% on the trainin set)\n",
    "* Accuracy is the most straightforward metric, however, it might be not the most the best for this problem.\n",
    "\n",
    "Lets calculate accuracies for different depth values"
   ],
   "metadata": {
    "collapsed": false
   }
  },
  {
   "cell_type": "code",
   "execution_count": 16,
   "outputs": [],
   "source": [
    "# Import Matplotlib\n",
    "import matplotlib\n",
    "import matplotlib.pyplot as plt\n",
    "import seaborn as sns\n",
    "\n",
    "# This is the global size of label text on the plots\n",
    "matplotlib.rc('xtick', labelsize = 20)\n",
    "matplotlib.rc('ytick', labelsize = 20)\n",
    "\n",
    "# This is the line that ensures that the plot is displayed inside the notebook.\n",
    "%matplotlib inline"
   ],
   "metadata": {
    "collapsed": false
   }
  },
  {
   "cell_type": "code",
   "execution_count": 19,
   "outputs": [],
   "source": [
    "# Initialize lists to store accuracies for training and test data, starting from 50% accuracy.\n",
    "train_accuracies = [0.5]\n",
    "test_accuracies = [0.5]\n",
    "\n",
    "# iterate over a few depth values\n",
    "for depth in range(1, 25):\n",
    "    # Init the model\n",
    "    clf = tree.DecisionTreeClassifier(max_depth=depth)\n",
    "\n",
    "    # Columns/features for training\n",
    "    cols = cols\n",
    "\n",
    "    # Fit the model on given features\n",
    "    clf.fit(df_train[cols], df_train['quality'])\n",
    "\n",
    "    # Create training and test set predictions\n",
    "    train_predictions = clf.predict(df_train[cols])\n",
    "    test_predictions = clf.predict(df_test[cols])\n",
    "\n",
    "    #Calculate training & test set accuracies.\n",
    "    train_accuracy = metrics.accuracy_score(df_train['quality'], train_predictions)\n",
    "    test_accuracy = metrics.accuracy_score(df_test['quality'], test_predictions)\n",
    "\n",
    "    # Append accuracies\n",
    "    train_accuracies.append(train_accuracy)\n",
    "    test_accuracies.append(test_accuracy)"
   ],
   "metadata": {
    "collapsed": false
   }
  },
  {
   "cell_type": "code",
   "execution_count": 21,
   "outputs": [
    {
     "data": {
      "text/plain": "<Figure size 1000x500 with 1 Axes>",
      "image/png": "[encoded data removed]"
     },
     "metadata": {},
     "output_type": "display_data"
    }
   ],
   "source": [
    "## Create two plots using matplotlib and seaborn\n",
    "plt.figure(figsize=(10,5))\n",
    "sns.set_style('whitegrid')\n",
    "plt.plot(train_accuracies, label=\"Train accuracy\")\n",
    "plt.plot(test_accuracies, label=\"Test accuracy\")\n",
    "plt.legend(loc=\"upper left\", prop={'size':15})\n",
    "plt.xticks(range(0,25, 5))\n",
    "plt.xlabel(\"max_depth\", size=20)\n",
    "plt.ylabel(\"accuracy\", size=20)\n",
    "plt.show()"
   ],
   "metadata": {
    "collapsed": false
   }
  },
  {
   "cell_type": "markdown",
   "source": [
    "#### Explanation\n",
    "The est score for the train data is obtained when max depth has a values of 14. from there onwards, the accuracy remains the same.\n",
    "\n",
    "* This means that the simple decision tree calculated keeps learning about the training data better and better with an increase in Max_Depth, but the\n",
    "performance on test data doesn't improve at all"
   ],
   "metadata": {
    "collapsed": false
   }
  },
  {
   "cell_type": "markdown",
   "source": [
    "### Overfitting:\n",
    "The model fits perfectly on the training data, but will not generalize on unseen samples.\n",
    "\n",
    "* The wine dataset, even though the model performs well on training data is not useful as the performance on real-world data is not good.\n",
    "\n",
    "* Another definition for overfitting would be when the increase on the test loss as the training loss keeps decreasing --> Common for Neural Networks.\n",
    "\n",
    "* **occam's razor** in simple words states that things should not be overcomplicated. If the model doesn't follow this principle then it is probably overfitting"
   ],
   "metadata": {
    "collapsed": false
   }
  },
  {
   "cell_type": "markdown",
   "source": [
    "### CrossValidation\n",
    "There are different ways of doing crossvalidation. However, the most important step when comes to building a good ML model is how generalizable\n",
    "is to unseen data.\n",
    "\n",
    "Also choosing the right crossvalidation depends on the dataset. One kind of crossvalidation can be applicable to one dataset but not to others.\n",
    "\n",
    "Here the techniques most popular and widely used:\n",
    "* K-fold CrossValidation\n",
    "* Stratified k-fold cross-validation\n",
    "* hold-out based validation\n",
    "* leave-one-out crossValidation\n",
    "* Group k-fold crossValidation\n"
   ],
   "metadata": {
    "collapsed": false
   }
  },
  {
   "cell_type": "code",
   "execution_count": 33,
   "outputs": [
    {
     "data": {
      "text/plain": "   fixed acidity  volatile acidity  citric acid  residual sugar  chlorides  \\\n0            7.4              0.70         0.00             1.9      0.076   \n1            7.8              0.88         0.00             2.6      0.098   \n2            7.8              0.76         0.04             2.3      0.092   \n3           11.2              0.28         0.56             1.9      0.075   \n4            7.4              0.70         0.00             1.9      0.076   \n\n   free sulfur dioxide  total sulfur dioxide  density    pH  sulphates  \\\n0                 11.0                  34.0   0.9978  3.51       0.56   \n1                 25.0                  67.0   0.9968  3.20       0.68   \n2                 15.0                  54.0   0.9970  3.26       0.65   \n3                 17.0                  60.0   0.9980  3.16       0.58   \n4                 11.0                  34.0   0.9978  3.51       0.56   \n\n   alcohol  quality  \n0      9.4        2  \n1      9.8        2  \n2      9.8        2  \n3      9.8        3  \n4      9.4        2  ",
      "text/html": "<div>\n<style scoped>\n    .dataframe tbody tr th:only-of-type {\n        vertical-align: middle;\n    }\n\n    .dataframe tbody tr th {\n        vertical-align: top;\n    }\n\n    .dataframe thead th {\n        text-align: right;\n    }\n</style>\n<table border=\"1\" class=\"dataframe\">\n  <thead>\n    <tr style=\"text-align: right;\">\n      <th></th>\n      <th>fixed acidity</th>\n      <th>volatile acidity</th>\n      <th>citric acid</th>\n      <th>residual sugar</th>\n      <th>chlorides</th>\n      <th>free sulfur dioxide</th>\n      <th>total sulfur dioxide</th>\n      <th>density</th>\n      <th>pH</th>\n      <th>sulphates</th>\n      <th>alcohol</th>\n      <th>quality</th>\n    </tr>\n  </thead>\n  <tbody>\n    <tr>\n      <th>0</th>\n      <td>7.4</td>\n      <td>0.70</td>\n      <td>0.00</td>\n      <td>1.9</td>\n      <td>0.076</td>\n      <td>11.0</td>\n      <td>34.0</td>\n      <td>0.9978</td>\n      <td>3.51</td>\n      <td>0.56</td>\n      <td>9.4</td>\n      <td>2</td>\n    </tr>\n    <tr>\n      <th>1</th>\n      <td>7.8</td>\n      <td>0.88</td>\n      <td>0.00</td>\n      <td>2.6</td>\n      <td>0.098</td>\n      <td>25.0</td>\n      <td>67.0</td>\n      <td>0.9968</td>\n      <td>3.20</td>\n      <td>0.68</td>\n      <td>9.8</td>\n      <td>2</td>\n    </tr>\n    <tr>\n      <th>2</th>\n      <td>7.8</td>\n      <td>0.76</td>\n      <td>0.04</td>\n      <td>2.3</td>\n      <td>0.092</td>\n      <td>15.0</td>\n      <td>54.0</td>\n      <td>0.9970</td>\n      <td>3.26</td>\n      <td>0.65</td>\n      <td>9.8</td>\n      <td>2</td>\n    </tr>\n    <tr>\n      <th>3</th>\n      <td>11.2</td>\n      <td>0.28</td>\n      <td>0.56</td>\n      <td>1.9</td>\n      <td>0.075</td>\n      <td>17.0</td>\n      <td>60.0</td>\n      <td>0.9980</td>\n      <td>3.16</td>\n      <td>0.58</td>\n      <td>9.8</td>\n      <td>3</td>\n    </tr>\n    <tr>\n      <th>4</th>\n      <td>7.4</td>\n      <td>0.70</td>\n      <td>0.00</td>\n      <td>1.9</td>\n      <td>0.076</td>\n      <td>11.0</td>\n      <td>34.0</td>\n      <td>0.9978</td>\n      <td>3.51</td>\n      <td>0.56</td>\n      <td>9.4</td>\n      <td>2</td>\n    </tr>\n  </tbody>\n</table>\n</div>"
     },
     "execution_count": 33,
     "metadata": {},
     "output_type": "execute_result"
    }
   ],
   "source": [
    "from sklearn import model_selection\n",
    "\n",
    "# Training data\n",
    "df = pd.read_csv(\"../data/winequality-red.csv\", sep=';')\n",
    "quality_mapping = {\n",
    "    3: 0,\n",
    "    4: 1,\n",
    "    5: 2,\n",
    "    6: 3,\n",
    "    7: 4,\n",
    "    8: 5\n",
    "}\n",
    "\n",
    "# By using the function map on a dictionary makes possible to convert values in a column to the values in the dictionary.\n",
    "df.loc[:, \"quality\"] = df['quality'].map(quality_mapping)\n",
    "\n",
    "df.head()\n"
   ],
   "metadata": {
    "collapsed": false
   }
  },
  {
   "cell_type": "code",
   "execution_count": 34,
   "outputs": [],
   "source": [
    "if __name__ == \"__main__\":\n",
    "    # Step 2: randomize the data.\n",
    "    df = df.sample(frac=1).reset_index(drop=True)\n",
    "\n",
    "    # Step 3: Initialize the k-fold class from model_selection module\n",
    "    kf = model_selection.KFold(n_splits=5)\n",
    "\n",
    "    # Step 4: Fill the new created Kfold column\n",
    "    for fold, (tran_, val_) in enumerate(kf.split(X = df)):\n",
    "        df.loc[val_, 'kfold'] = fold\n",
    "\n",
    "    # Step 5: Save the new csv with the kfold column\n",
    "    df.to_csv(\"../data/output/wineQuality_kfolds.csv\", index=False)"
   ],
   "metadata": {
    "collapsed": false
   }
  },
  {
   "cell_type": "markdown",
   "source": [
    "### Stratified k-fold\n",
    "It is easy to modify the code above to create a stratified k-fold by only modifying the  model selected. And also\n",
    "the kf.split(..) function."
   ],
   "metadata": {
    "collapsed": false
   }
  },
  {
   "cell_type": "code",
   "execution_count": 37,
   "outputs": [],
   "source": [
    "from sklearn import model_selection\n",
    "\n",
    "if __name__ == \"__main__\":\n",
    "    # Training data\n",
    "    df = pd.read_csv(\"../data/winequality-red.csv\", sep=\";\")\n",
    "\n",
    "    quality_mapping = {\n",
    "        3: 0,\n",
    "        4: 1,\n",
    "        5: 2,\n",
    "        6: 3,\n",
    "        7: 4,\n",
    "        8: 5\n",
    "    }\n",
    "\n",
    "    # By using the function map on a dictionary makes possible to convert values in a column to the values in the dictionary.\n",
    "    df.loc[:, \"quality\"] = df['quality'].map(quality_mapping)\n",
    "\n",
    "    # Step 1: Create a new column called kfold and fill with a -1 value\n",
    "    df['kfold'] = -1\n",
    "\n",
    "    # Step 2: Randomize the rows of the data\n",
    "    df = df.sample(frac=1).reset_index(drop=True)\n",
    "\n",
    "    # Step 3: Fetch the targets.\n",
    "    y = df['quality'].values\n",
    "\n",
    "    # Step 4: Initialize the kfold class from model selection module\n",
    "    kf = model_selection.kf = model_selection.StratifiedKFold(n_splits=5)\n",
    "\n",
    "    # Step 5: Fill the new kfold column\n",
    "    for f, (t_, v_) in enumerate(kf.split(X=df, y=y)):\n",
    "        df.loc[v_, 'kfold'] = f\n",
    "\n",
    "    # Step 6: Save the new csv with kfold cols\n",
    "    df.to_csv(\"../data/output/wineQuality_stratiofied_kfolds.csv\", index=False)"
   ],
   "metadata": {
    "collapsed": false
   }
  },
  {
   "cell_type": "code",
   "execution_count": 38,
   "outputs": [
    {
     "data": {
      "text/plain": "Text(0, 0.5, 'count')"
     },
     "execution_count": 38,
     "metadata": {},
     "output_type": "execute_result"
    },
    {
     "data": {
      "text/plain": "<Figure size 640x480 with 1 Axes>",
      "image/png": "[encoded data removed]"
     },
     "metadata": {},
     "output_type": "display_data"
    }
   ],
   "source": [
    "b = sns.countplot(x= \"quality\", data=df)\n",
    "b.set_xlabel(\"quality\", fontsize=20)\n",
    "b.set_ylabel(\"count\", fontsize=20)"
   ],
   "metadata": {
    "collapsed": false
   }
  },
  {
   "cell_type": "markdown",
   "source": [
    "* **Simple rule:** If is a standard classification problem, choose stratified k-fold\n",
    "*  When dealing with big amounts of data a rule of 80%, 20% it is applied for train, test splits.\n",
    "* However, depending on the algorithm used, training and validation can be really expensive for a big dataset. In those cases **hold-out based validation** is more suitable\n",
    "\n",
    "* The process for creating the hold-out remains the same as stratified k-fold. A rule of 90%, 10% can be also applied.\n",
    "* Hold-out is also used frequently for **time-series data**"
   ],
   "metadata": {
    "collapsed": false
   }
  },
  {
   "cell_type": "markdown",
   "source": [
    "### Stratified K-Fold for regression\n",
    "To do this we need first to divide the target into bins, and then use the stratified k-fold in the same way that for classification problems.\n",
    "\n",
    "One way to go around when not having enough samples is to use the **Sturge's Rule** to calculate the appropriate number of bins.\n",
    "\n",
    "***number of bins = 1 + log(N)***\n"
   ],
   "metadata": {
    "collapsed": false
   }
  },
  {
   "cell_type": "code",
   "execution_count": 45,
   "outputs": [],
   "source": [
    "# Stratified-kfold for regression\n",
    "import numpy as np\n",
    "import pandas as pd\n",
    "\n",
    "from sklearn import datasets\n",
    "from sklearn import model_selection\n",
    "\n",
    "def create_folds(data):\n",
    "    # Step 1: Create a new column called kfold and fill with -1\n",
    "    data[\"kfold\"] = -1\n",
    "\n",
    "    # Step 2: randomize the rows of data\n",
    "    data = data.sample(frac=1).reset_index(drop=True)\n",
    "\n",
    "    #Step 3: Calculate the number of bins by Sturge's rule. By taking the floor of the value or round it\n",
    "    num_bins = int(np.floor(1 + np.log2(len(data))))\n",
    "\n",
    "    # Step 4: Bin Target\n",
    "    data.loc[:, \"bins\"] = pd.cut(data[\"target\"], bins=num_bins, labels=False)\n",
    "\n",
    "    # Step 5: Initiate the k-fold class from model_selection module\n",
    "    kf = model_selection.StratifiedKFold(n_splits=5)\n",
    "\n",
    "    # Step 6: Fill the new kfold column, Note that instead of targets, bins are used.\n",
    "    for f, (t_, v_) in enumerate(kf.split(X=data, y=data['bins'].values)):\n",
    "        data.loc[v_, 'kfold'] = f\n",
    "\n",
    "    # Step 7 Drop the bins column\n",
    "    data = data.drop(\"bins\", axis=1)\n",
    "\n",
    "    # Return dataframe with folds\n",
    "    return data\n",
    "\n",
    "if __name__ == \"__main__\":\n",
    "    # Creating a dataset with 15000 samples and 100 features and 1 target\n",
    "    X, y = datasets.make_regression(n_samples=15000, n_features=100, n_targets=1)\n",
    "\n",
    "    # Create the dataframe out of numpy arrays\n",
    "    df = pd.DataFrame(X, columns=[f\"f_{i}\" for i in range(X.shape[1])])\n",
    "    df.loc[:, \"target\"] = y\n",
    "\n",
    "    # Create the folds\n",
    "    df = create_folds(df)"
   ],
   "metadata": {
    "collapsed": false
   }
  },
  {
   "cell_type": "code",
   "execution_count": 46,
   "outputs": [
    {
     "data": {
      "text/plain": "        f_0       f_1       f_2       f_3       f_4       f_5       f_6  \\\n0 -0.307657  0.425302 -0.681089 -0.767576  0.936827 -0.657826  0.259980   \n1 -2.860596 -1.979723  1.617859  0.831847 -0.909084 -0.786511 -0.316027   \n2  2.460729  1.326221 -0.040442  0.724673 -1.403314 -1.285753 -0.213107   \n3 -0.700046 -0.811302 -1.797300 -1.832255 -0.877515 -1.694635 -0.178841   \n4 -0.455618 -0.388424  2.151813  0.152386 -1.215333  0.712172  1.114234   \n5 -0.772573  0.858132 -0.019593  0.614772 -0.103950  0.863459  0.292123   \n6 -0.594591 -0.508084 -0.801134  0.833314  0.865262  0.551455  0.631907   \n7  0.113377 -1.534042 -1.381490 -0.784309  0.075119  1.479131  0.557635   \n8  2.012042 -0.995225 -0.369380  0.954672  0.059903 -0.057193  0.108742   \n9  2.222296  0.705967  0.401312  1.252110 -1.642920 -0.449773  0.007164   \n\n        f_7       f_8       f_9  ...      f_92      f_93      f_94      f_95  \\\n0  0.884354 -1.731373  2.281037  ... -0.065998 -0.374348 -0.208358  0.695778   \n1 -0.289020  1.613705  0.225404  ...  1.077789  0.743057 -0.111417 -0.345318   \n2 -0.741132 -0.683439  1.956996  ...  0.325942 -1.091533 -0.688315  0.432825   \n3 -0.472952 -2.382419  0.292357  ...  0.143965 -1.590390 -0.537044 -0.865114   \n4  0.846091 -1.332695  0.030372  ...  1.227196  0.625988 -0.274958 -0.753676   \n5  0.486360  0.953429 -0.986066  ... -0.674683 -0.906994  1.454760 -1.061218   \n6  0.226756  1.694842 -0.563663  ... -2.463996 -0.638112 -1.790082 -0.456252   \n7 -0.190263 -1.141584  0.590020  ...  1.004798  0.129886  1.809338  0.094052   \n8 -0.513833  1.461560 -0.240292  ... -0.232622  0.356524  0.139523 -1.863852   \n9 -1.196851  0.323326  2.269503  ...  0.850811 -1.163945  1.515093 -1.224566   \n\n       f_96      f_97      f_98      f_99      target  kfold  \n0 -0.878721  0.938060  2.291708  1.197587   23.604694      0  \n1  0.198477 -0.337461 -0.501266  0.732004  -31.804332      0  \n2  0.389281  0.313042  0.293554 -1.042142 -145.829334      0  \n3  0.785775 -1.850787 -0.210597  0.436174   67.561536      0  \n4 -1.500340  0.141247 -0.556303  0.457837  -18.205081      0  \n5  0.931177 -1.538371  1.049275 -0.270515  -78.228958      0  \n6 -0.701918 -0.308984 -0.209384  0.230101  187.928236      0  \n7  0.133591 -1.340237  2.280908  0.675855 -378.073059      0  \n8  0.695052  0.092461  0.110224  1.721313  183.699231      0  \n9 -0.805751 -0.754867 -1.234429 -0.208084  -30.751135      0  \n\n[10 rows x 102 columns]",
      "text/html": "<div>\n<style scoped>\n    .dataframe tbody tr th:only-of-type {\n        vertical-align: middle;\n    }\n\n    .dataframe tbody tr th {\n        vertical-align: top;\n    }\n\n    .dataframe thead th {\n        text-align: right;\n    }\n</style>\n<table border=\"1\" class=\"dataframe\">\n  <thead>\n    <tr style=\"text-align: right;\">\n      <th></th>\n      <th>f_0</th>\n      <th>f_1</th>\n      <th>f_2</th>\n      <th>f_3</th>\n      <th>f_4</th>\n      <th>f_5</th>\n      <th>f_6</th>\n      <th>f_7</th>\n      <th>f_8</th>\n      <th>f_9</th>\n      <th>...</th>\n      <th>f_92</th>\n      <th>f_93</th>\n      <th>f_94</th>\n      <th>f_95</th>\n      <th>f_96</th>\n      <th>f_97</th>\n      <th>f_98</th>\n      <th>f_99</th>\n      <th>target</th>\n      <th>kfold</th>\n    </tr>\n  </thead>\n  <tbody>\n    <tr>\n      <th>0</th>\n      <td>-0.307657</td>\n      <td>0.425302</td>\n      <td>-0.681089</td>\n      <td>-0.767576</td>\n      <td>0.936827</td>\n      <td>-0.657826</td>\n      <td>0.259980</td>\n      <td>0.884354</td>\n      <td>-1.731373</td>\n      <td>2.281037</td>\n      <td>...</td>\n      <td>-0.065998</td>\n      <td>-0.374348</td>\n      <td>-0.208358</td>\n      <td>0.695778</td>\n      <td>-0.878721</td>\n      <td>0.938060</td>\n      <td>2.291708</td>\n      <td>1.197587</td>\n      <td>23.604694</td>\n      <td>0</td>\n    </tr>\n    <tr>\n      <th>1</th>\n      <td>-2.860596</td>\n      <td>-1.979723</td>\n      <td>1.617859</td>\n      <td>0.831847</td>\n      <td>-0.909084</td>\n      <td>-0.786511</td>\n      <td>-0.316027</td>\n      <td>-0.289020</td>\n      <td>1.613705</td>\n      <td>0.225404</td>\n      <td>...</td>\n      <td>1.077789</td>\n      <td>0.743057</td>\n      <td>-0.111417</td>\n      <td>-0.345318</td>\n      <td>0.198477</td>\n      <td>-0.337461</td>\n      <td>-0.501266</td>\n      <td>0.732004</td>\n      <td>-31.804332</td>\n      <td>0</td>\n    </tr>\n    <tr>\n      <th>2</th>\n      <td>2.460729</td>\n      <td>1.326221</td>\n      <td>-0.040442</td>\n      <td>0.724673</td>\n      <td>-1.403314</td>\n      <td>-1.285753</td>\n      <td>-0.213107</td>\n      <td>-0.741132</td>\n      <td>-0.683439</td>\n      <td>1.956996</td>\n      <td>...</td>\n      <td>0.325942</td>\n      <td>-1.091533</td>\n      <td>-0.688315</td>\n      <td>0.432825</td>\n      <td>0.389281</td>\n      <td>0.313042</td>\n      <td>0.293554</td>\n      <td>-1.042142</td>\n      <td>-145.829334</td>\n      <td>0</td>\n    </tr>\n    <tr>\n      <th>3</th>\n      <td>-0.700046</td>\n      <td>-0.811302</td>\n      <td>-1.797300</td>\n      <td>-1.832255</td>\n      <td>-0.877515</td>\n      <td>-1.694635</td>\n      <td>-0.178841</td>\n      <td>-0.472952</td>\n      <td>-2.382419</td>\n      <td>0.292357</td>\n      <td>...</td>\n      <td>0.143965</td>\n      <td>-1.590390</td>\n      <td>-0.537044</td>\n      <td>-0.865114</td>\n      <td>0.785775</td>\n      <td>-1.850787</td>\n      <td>-0.210597</td>\n      <td>0.436174</td>\n      <td>67.561536</td>\n      <td>0</td>\n    </tr>\n    <tr>\n      <th>4</th>\n      <td>-0.455618</td>\n      <td>-0.388424</td>\n      <td>2.151813</td>\n      <td>0.152386</td>\n      <td>-1.215333</td>\n      <td>0.712172</td>\n      <td>1.114234</td>\n      <td>0.846091</td>\n      <td>-1.332695</td>\n      <td>0.030372</td>\n      <td>...</td>\n      <td>1.227196</td>\n      <td>0.625988</td>\n      <td>-0.274958</td>\n      <td>-0.753676</td>\n      <td>-1.500340</td>\n      <td>0.141247</td>\n      <td>-0.556303</td>\n      <td>0.457837</td>\n      <td>-18.205081</td>\n      <td>0</td>\n    </tr>\n    <tr>\n      <th>5</th>\n      <td>-0.772573</td>\n      <td>0.858132</td>\n      <td>-0.019593</td>\n      <td>0.614772</td>\n      <td>-0.103950</td>\n      <td>0.863459</td>\n      <td>0.292123</td>\n      <td>0.486360</td>\n      <td>0.953429</td>\n      <td>-0.986066</td>\n      <td>...</td>\n      <td>-0.674683</td>\n      <td>-0.906994</td>\n      <td>1.454760</td>\n      <td>-1.061218</td>\n      <td>0.931177</td>\n      <td>-1.538371</td>\n      <td>1.049275</td>\n      <td>-0.270515</td>\n      <td>-78.228958</td>\n      <td>0</td>\n    </tr>\n    <tr>\n      <th>6</th>\n      <td>-0.594591</td>\n      <td>-0.508084</td>\n      <td>-0.801134</td>\n      <td>0.833314</td>\n      <td>0.865262</td>\n      <td>0.551455</td>\n      <td>0.631907</td>\n      <td>0.226756</td>\n      <td>1.694842</td>\n      <td>-0.563663</td>\n      <td>...</td>\n      <td>-2.463996</td>\n      <td>-0.638112</td>\n      <td>-1.790082</td>\n      <td>-0.456252</td>\n      <td>-0.701918</td>\n      <td>-0.308984</td>\n      <td>-0.209384</td>\n      <td>0.230101</td>\n      <td>187.928236</td>\n      <td>0</td>\n    </tr>\n    <tr>\n      <th>7</th>\n      <td>0.113377</td>\n      <td>-1.534042</td>\n      <td>-1.381490</td>\n      <td>-0.784309</td>\n      <td>0.075119</td>\n      <td>1.479131</td>\n      <td>0.557635</td>\n      <td>-0.190263</td>\n      <td>-1.141584</td>\n      <td>0.590020</td>\n      <td>...</td>\n      <td>1.004798</td>\n      <td>0.129886</td>\n      <td>1.809338</td>\n      <td>0.094052</td>\n      <td>0.133591</td>\n      <td>-1.340237</td>\n      <td>2.280908</td>\n      <td>0.675855</td>\n      <td>-378.073059</td>\n      <td>0</td>\n    </tr>\n    <tr>\n      <th>8</th>\n      <td>2.012042</td>\n      <td>-0.995225</td>\n      <td>-0.369380</td>\n      <td>0.954672</td>\n      <td>0.059903</td>\n      <td>-0.057193</td>\n      <td>0.108742</td>\n      <td>-0.513833</td>\n      <td>1.461560</td>\n      <td>-0.240292</td>\n      <td>...</td>\n      <td>-0.232622</td>\n      <td>0.356524</td>\n      <td>0.139523</td>\n      <td>-1.863852</td>\n      <td>0.695052</td>\n      <td>0.092461</td>\n      <td>0.110224</td>\n      <td>1.721313</td>\n      <td>183.699231</td>\n      <td>0</td>\n    </tr>\n    <tr>\n      <th>9</th>\n      <td>2.222296</td>\n      <td>0.705967</td>\n      <td>0.401312</td>\n      <td>1.252110</td>\n      <td>-1.642920</td>\n      <td>-0.449773</td>\n      <td>0.007164</td>\n      <td>-1.196851</td>\n      <td>0.323326</td>\n      <td>2.269503</td>\n      <td>...</td>\n      <td>0.850811</td>\n      <td>-1.163945</td>\n      <td>1.515093</td>\n      <td>-1.224566</td>\n      <td>-0.805751</td>\n      <td>-0.754867</td>\n      <td>-1.234429</td>\n      <td>-0.208084</td>\n      <td>-30.751135</td>\n      <td>0</td>\n    </tr>\n  </tbody>\n</table>\n<p>10 rows × 102 columns</p>\n</div>"
     },
     "execution_count": 46,
     "metadata": {},
     "output_type": "execute_result"
    }
   ],
   "source": [
    "df.head(10)"
   ],
   "metadata": {
    "collapsed": false
   }
  },
  {
   "cell_type": "code",
   "execution_count": null,
   "outputs": [],
   "source": [],
   "metadata": {
    "collapsed": false
   }
  }
 ],
 "metadata": {
  "kernelspec": {
   "display_name": "Python 3",
   "language": "python",
   "name": "python3"
  },
  "language_info": {
   "codemirror_mode": {
    "name": "ipython",
    "version": 2
   },
   "file_extension": ".py",
   "mimetype": "text/x-python",
   "name": "python",
   "nbconvert_exporter": "python",
   "pygments_lexer": "ipython2",
   "version": "2.7.6"
  }
 },
 "nbformat": 4,
 "nbformat_minor": 0
}
